{
  "nbformat": 4,
  "nbformat_minor": 0,
  "metadata": {
    "colab": {
      "provenance": []
    },
    "kernelspec": {
      "name": "python3",
      "display_name": "Python 3"
    },
    "language_info": {
      "name": "python"
    }
  },
  "cells": [
    {
      "cell_type": "code",
      "execution_count": null,
      "metadata": {
        "id": "t4A59m6nwQuQ"
      },
      "outputs": [],
      "source": [
        "#importing required libraries\n",
        "import pandas as pd\n",
        "import numpy as np\n",
        "import matplotlib.pyplot as plt\n"
      ]
    },
    {
      "cell_type": "code",
      "source": [
        "train_path=\"/content/train_qWM28Yl.csv\"\n",
        "test_path=\"/content/test_zo1G9sv.csv\"\n",
        "train_df=pd.read_csv(train_path)\n",
        "test_df=pd.read_csv(test_path)\n",
        "train_df.info()\n",
        "test_df.info()\n",
        "id=test_df['policy_id']"
      ],
      "metadata": {
        "colab": {
          "base_uri": "https://localhost:8080/"
        },
        "id": "qRKryfdKw65H",
        "outputId": "4db44e9a-1703-45c3-eac7-ce2cb35828d7"
      },
      "execution_count": null,
      "outputs": [
        {
          "output_type": "stream",
          "name": "stdout",
          "text": [
            "<class 'pandas.core.frame.DataFrame'>\n",
            "RangeIndex: 58592 entries, 0 to 58591\n",
            "Data columns (total 44 columns):\n",
            " #   Column                            Non-Null Count  Dtype  \n",
            "---  ------                            --------------  -----  \n",
            " 0   policy_id                         58592 non-null  object \n",
            " 1   policy_tenure                     58592 non-null  float64\n",
            " 2   age_of_car                        58592 non-null  float64\n",
            " 3   age_of_policyholder               58592 non-null  float64\n",
            " 4   area_cluster                      58592 non-null  object \n",
            " 5   population_density                58592 non-null  int64  \n",
            " 6   make                              58592 non-null  int64  \n",
            " 7   segment                           58592 non-null  object \n",
            " 8   model                             58592 non-null  object \n",
            " 9   fuel_type                         58592 non-null  object \n",
            " 10  max_torque                        58592 non-null  object \n",
            " 11  max_power                         58592 non-null  object \n",
            " 12  engine_type                       58592 non-null  object \n",
            " 13  airbags                           58592 non-null  int64  \n",
            " 14  is_esc                            58592 non-null  object \n",
            " 15  is_adjustable_steering            58592 non-null  object \n",
            " 16  is_tpms                           58592 non-null  object \n",
            " 17  is_parking_sensors                58592 non-null  object \n",
            " 18  is_parking_camera                 58592 non-null  object \n",
            " 19  rear_brakes_type                  58592 non-null  object \n",
            " 20  displacement                      58592 non-null  int64  \n",
            " 21  cylinder                          58592 non-null  int64  \n",
            " 22  transmission_type                 58592 non-null  object \n",
            " 23  gear_box                          58592 non-null  int64  \n",
            " 24  steering_type                     58592 non-null  object \n",
            " 25  turning_radius                    58592 non-null  float64\n",
            " 26  length                            58592 non-null  int64  \n",
            " 27  width                             58592 non-null  int64  \n",
            " 28  height                            58592 non-null  int64  \n",
            " 29  gross_weight                      58592 non-null  int64  \n",
            " 30  is_front_fog_lights               58592 non-null  object \n",
            " 31  is_rear_window_wiper              58592 non-null  object \n",
            " 32  is_rear_window_washer             58592 non-null  object \n",
            " 33  is_rear_window_defogger           58592 non-null  object \n",
            " 34  is_brake_assist                   58592 non-null  object \n",
            " 35  is_power_door_locks               58592 non-null  object \n",
            " 36  is_central_locking                58592 non-null  object \n",
            " 37  is_power_steering                 58592 non-null  object \n",
            " 38  is_driver_seat_height_adjustable  58592 non-null  object \n",
            " 39  is_day_night_rear_view_mirror     58592 non-null  object \n",
            " 40  is_ecw                            58592 non-null  object \n",
            " 41  is_speed_alert                    58592 non-null  object \n",
            " 42  ncap_rating                       58592 non-null  int64  \n",
            " 43  is_claim                          58592 non-null  int64  \n",
            "dtypes: float64(4), int64(12), object(28)\n",
            "memory usage: 19.7+ MB\n",
            "<class 'pandas.core.frame.DataFrame'>\n",
            "RangeIndex: 39063 entries, 0 to 39062\n",
            "Data columns (total 43 columns):\n",
            " #   Column                            Non-Null Count  Dtype  \n",
            "---  ------                            --------------  -----  \n",
            " 0   policy_id                         39063 non-null  object \n",
            " 1   policy_tenure                     39063 non-null  float64\n",
            " 2   age_of_car                        39063 non-null  float64\n",
            " 3   age_of_policyholder               39063 non-null  float64\n",
            " 4   area_cluster                      39063 non-null  object \n",
            " 5   population_density                39063 non-null  int64  \n",
            " 6   make                              39063 non-null  int64  \n",
            " 7   segment                           39063 non-null  object \n",
            " 8   model                             39063 non-null  object \n",
            " 9   fuel_type                         39063 non-null  object \n",
            " 10  max_torque                        39063 non-null  object \n",
            " 11  max_power                         39063 non-null  object \n",
            " 12  engine_type                       39063 non-null  object \n",
            " 13  airbags                           39063 non-null  int64  \n",
            " 14  is_esc                            39063 non-null  object \n",
            " 15  is_adjustable_steering            39063 non-null  object \n",
            " 16  is_tpms                           39063 non-null  object \n",
            " 17  is_parking_sensors                39063 non-null  object \n",
            " 18  is_parking_camera                 39063 non-null  object \n",
            " 19  rear_brakes_type                  39063 non-null  object \n",
            " 20  displacement                      39063 non-null  int64  \n",
            " 21  cylinder                          39063 non-null  int64  \n",
            " 22  transmission_type                 39063 non-null  object \n",
            " 23  gear_box                          39063 non-null  int64  \n",
            " 24  steering_type                     39063 non-null  object \n",
            " 25  turning_radius                    39063 non-null  float64\n",
            " 26  length                            39063 non-null  int64  \n",
            " 27  width                             39063 non-null  int64  \n",
            " 28  height                            39063 non-null  int64  \n",
            " 29  gross_weight                      39063 non-null  int64  \n",
            " 30  is_front_fog_lights               39063 non-null  object \n",
            " 31  is_rear_window_wiper              39063 non-null  object \n",
            " 32  is_rear_window_washer             39063 non-null  object \n",
            " 33  is_rear_window_defogger           39063 non-null  object \n",
            " 34  is_brake_assist                   39063 non-null  object \n",
            " 35  is_power_door_locks               39063 non-null  object \n",
            " 36  is_central_locking                39063 non-null  object \n",
            " 37  is_power_steering                 39063 non-null  object \n",
            " 38  is_driver_seat_height_adjustable  39063 non-null  object \n",
            " 39  is_day_night_rear_view_mirror     39063 non-null  object \n",
            " 40  is_ecw                            39063 non-null  object \n",
            " 41  is_speed_alert                    39063 non-null  object \n",
            " 42  ncap_rating                       39063 non-null  int64  \n",
            "dtypes: float64(4), int64(11), object(28)\n",
            "memory usage: 12.8+ MB\n"
          ]
        }
      ]
    },
    {
      "cell_type": "code",
      "source": [
        "from sklearn.preprocessing import OrdinalEncoder\n",
        "\n",
        "columns=['is_rear_window_wiper','is_rear_window_washer','is_rear_window_defogger',\n",
        "         'is_power_steering','engine_type','is_tpms','make','gear_box','transmission_type',\n",
        "         'max_power','max_torque','model','length','segment','gross_weight','ncap_rating',\n",
        "         'airbags','is_esc','turning_radius','rear_brakes_type','is_parking_camera'\n",
        "         ]\n",
        "\n",
        "for i in columns:\n",
        "    train_df=train_df.drop([i],axis=1)\n",
        "    test_df=test_df.drop([i],axis=1)\n",
        "ord_enc = OrdinalEncoder()\n",
        "cols=['area_cluster','fuel_type','is_adjustable_steering','is_parking_sensors',\n",
        "      'steering_type','is_front_fog_lights','is_brake_assist','is_power_door_locks',\n",
        "      'is_central_locking','is_driver_seat_height_adjustable','is_day_night_rear_view_mirror','is_ecw',\n",
        "      'is_speed_alert']\n",
        "for i in cols:\n",
        "     train_df[i] = ord_enc.fit_transform(train_df[[i]])\n",
        "for i in cols:\n",
        "     test_df[i] = ord_enc.fit_transform(test_df[[i]])\n",
        "print(train_df.head(7))\n",
        "print(test_df.head(7))"
      ],
      "metadata": {
        "colab": {
          "base_uri": "https://localhost:8080/"
        },
        "id": "KA4q6bQSx1hu",
        "outputId": "03507165-9cfc-425e-a2bb-48d3ceeec222"
      },
      "execution_count": null,
      "outputs": [
        {
          "output_type": "stream",
          "name": "stdout",
          "text": [
            "  policy_id  policy_tenure  age_of_car  age_of_policyholder  area_cluster  \\\n",
            "0   ID00001       0.515874        0.05             0.644231           0.0   \n",
            "1   ID00002       0.672619        0.02             0.375000          11.0   \n",
            "2   ID00003       0.841110        0.02             0.384615          15.0   \n",
            "3   ID00004       0.900277        0.11             0.432692          16.0   \n",
            "4   ID00005       0.596403        0.11             0.634615          17.0   \n",
            "5   ID00006       1.018709        0.07             0.519231          18.0   \n",
            "6   ID00007       0.097992        0.16             0.403846          19.0   \n",
            "\n",
            "   population_density  fuel_type  is_adjustable_steering  is_parking_sensors  \\\n",
            "0                4990        0.0                     0.0                 1.0   \n",
            "1               27003        0.0                     0.0                 1.0   \n",
            "2                4076        0.0                     0.0                 1.0   \n",
            "3               21622        2.0                     1.0                 1.0   \n",
            "4               34738        2.0                     0.0                 0.0   \n",
            "5               13051        1.0                     1.0                 1.0   \n",
            "6                6112        1.0                     1.0                 1.0   \n",
            "\n",
            "   displacement  ...  height  is_front_fog_lights  is_brake_assist  \\\n",
            "0           796  ...    1475                  0.0              0.0   \n",
            "1           796  ...    1475                  0.0              0.0   \n",
            "2           796  ...    1475                  0.0              0.0   \n",
            "3          1197  ...    1515                  1.0              1.0   \n",
            "4           999  ...    1490                  0.0              0.0   \n",
            "5          1493  ...    1635                  1.0              1.0   \n",
            "6          1497  ...    1523                  0.0              0.0   \n",
            "\n",
            "   is_power_door_locks  is_central_locking  is_driver_seat_height_adjustable  \\\n",
            "0                  0.0                 0.0                               0.0   \n",
            "1                  0.0                 0.0                               0.0   \n",
            "2                  0.0                 0.0                               0.0   \n",
            "3                  1.0                 1.0                               1.0   \n",
            "4                  1.0                 1.0                               0.0   \n",
            "5                  1.0                 1.0                               1.0   \n",
            "6                  1.0                 1.0                               0.0   \n",
            "\n",
            "   is_day_night_rear_view_mirror  is_ecw  is_speed_alert  is_claim  \n",
            "0                            0.0     0.0             1.0         0  \n",
            "1                            0.0     0.0             1.0         0  \n",
            "2                            0.0     0.0             1.0         0  \n",
            "3                            1.0     1.0             1.0         0  \n",
            "4                            1.0     1.0             1.0         0  \n",
            "5                            0.0     1.0             1.0         0  \n",
            "6                            0.0     1.0             1.0         0  \n",
            "\n",
            "[7 rows x 23 columns]\n",
            "  policy_id  policy_tenure  age_of_car  age_of_policyholder  area_cluster  \\\n",
            "0   ID58593       0.341732        0.00             0.586538          15.0   \n",
            "1   ID58594       0.307241        0.13             0.442308          20.0   \n",
            "2   ID58595       0.327924        0.12             0.451923          20.0   \n",
            "3   ID58596       0.782654        0.01             0.461538          17.0   \n",
            "4   ID58597       1.233404        0.02             0.634615          17.0   \n",
            "5   ID58598       0.148635        0.15             0.442308          20.0   \n",
            "6   ID58599       1.114182        0.09             0.355769           7.0   \n",
            "\n",
            "   population_density  fuel_type  is_adjustable_steering  is_parking_sensors  \\\n",
            "0                4076        0.0                     0.0                 1.0   \n",
            "1                8794        2.0                     1.0                 1.0   \n",
            "2                8794        2.0                     0.0                 0.0   \n",
            "3               34738        0.0                     0.0                 1.0   \n",
            "4               34738        0.0                     0.0                 1.0   \n",
            "5                8794        2.0                     1.0                 1.0   \n",
            "6               16206        0.0                     0.0                 1.0   \n",
            "\n",
            "   displacement  ...  width  height  is_front_fog_lights  is_brake_assist  \\\n",
            "0           796  ...   1515    1475                  0.0              0.0   \n",
            "1          1197  ...   1735    1530                  1.0              1.0   \n",
            "2           999  ...   1579    1490                  0.0              0.0   \n",
            "3           796  ...   1515    1475                  0.0              0.0   \n",
            "4           796  ...   1515    1475                  0.0              0.0   \n",
            "5          1197  ...   1745    1500                  1.0              1.0   \n",
            "6           998  ...   1620    1675                  0.0              0.0   \n",
            "\n",
            "   is_power_door_locks  is_central_locking  is_driver_seat_height_adjustable  \\\n",
            "0                  0.0                 0.0                               0.0   \n",
            "1                  1.0                 1.0                               1.0   \n",
            "2                  1.0                 1.0                               0.0   \n",
            "3                  0.0                 0.0                               0.0   \n",
            "4                  0.0                 0.0                               0.0   \n",
            "5                  1.0                 1.0                               1.0   \n",
            "6                  1.0                 1.0                               0.0   \n",
            "\n",
            "   is_day_night_rear_view_mirror  is_ecw  is_speed_alert  \n",
            "0                            0.0     0.0             1.0  \n",
            "1                            1.0     1.0             1.0  \n",
            "2                            1.0     1.0             1.0  \n",
            "3                            0.0     0.0             1.0  \n",
            "4                            0.0     0.0             1.0  \n",
            "5                            1.0     1.0             1.0  \n",
            "6                            0.0     1.0             1.0  \n",
            "\n",
            "[7 rows x 22 columns]\n"
          ]
        }
      ]
    },
    {
      "cell_type": "code",
      "source": [
        "from sklearn.preprocessing import StandardScaler\n",
        "\n",
        "cols=['population_density','width','height','displacement']\n",
        "scaler = StandardScaler()\n",
        "for i in cols:\n",
        "  x=train_df[i]\n",
        "  x=x.values.reshape((-1,1))\n",
        "  train_df[i]=scaler.fit_transform(x)\n",
        "\n",
        "for i in cols:\n",
        "  x=test_df[i]\n",
        "  x=x.values.reshape((-1,1))\n",
        "  test_df[i]=scaler.fit_transform(x)"
      ],
      "metadata": {
        "id": "FtwKqy14WksV"
      },
      "execution_count": null,
      "outputs": []
    },
    {
      "cell_type": "code",
      "source": [
        "print(train_df['policy_id'].value_counts())\n",
        "train_df=train_df.drop(['policy_id'],axis=1)\n",
        "test_df=test_df.drop(['policy_id'],axis=1)"
      ],
      "metadata": {
        "colab": {
          "base_uri": "https://localhost:8080/"
        },
        "id": "Z5pxS0am2fcF",
        "outputId": "469cfcdc-7045-47c4-d558-1bb72b6b6eb0"
      },
      "execution_count": null,
      "outputs": [
        {
          "output_type": "stream",
          "name": "stdout",
          "text": [
            "ID00001    1\n",
            "ID39053    1\n",
            "ID39055    1\n",
            "ID39056    1\n",
            "ID39057    1\n",
            "          ..\n",
            "ID19535    1\n",
            "ID19536    1\n",
            "ID19537    1\n",
            "ID19538    1\n",
            "ID58592    1\n",
            "Name: policy_id, Length: 58592, dtype: int64\n"
          ]
        }
      ]
    },
    {
      "cell_type": "code",
      "source": [
        "corr_matrix=train_df.corr()\n",
        "print('correlation metrix for dataset: ',corr_matrix[\"is_claim\"].sort_values(ascending=False))"
      ],
      "metadata": {
        "id": "KE1YKTFi3WcQ",
        "colab": {
          "base_uri": "https://localhost:8080/"
        },
        "outputId": "3c4ba8e0-4007-45b6-e913-261884eaaf00"
      },
      "execution_count": null,
      "outputs": [
        {
          "output_type": "stream",
          "name": "stdout",
          "text": [
            "correlation metrix for dataset:  is_claim                            1.000000\n",
            "policy_tenure                       0.078747\n",
            "age_of_policyholder                 0.022435\n",
            "is_adjustable_steering              0.013917\n",
            "cylinder                            0.013434\n",
            "is_front_fog_lights                 0.011825\n",
            "is_brake_assist                     0.010893\n",
            "is_driver_seat_height_adjustable    0.010686\n",
            "width                               0.009947\n",
            "fuel_type                           0.009612\n",
            "area_cluster                        0.009425\n",
            "is_parking_sensors                  0.008419\n",
            "is_day_night_rear_view_mirror       0.007989\n",
            "displacement                        0.007678\n",
            "is_speed_alert                      0.007307\n",
            "is_power_door_locks                 0.006637\n",
            "is_central_locking                  0.006637\n",
            "is_ecw                              0.006637\n",
            "height                             -0.002024\n",
            "steering_type                      -0.009608\n",
            "population_density                 -0.017808\n",
            "age_of_car                         -0.028172\n",
            "Name: is_claim, dtype: float64\n"
          ]
        }
      ]
    },
    {
      "cell_type": "code",
      "source": [
        "train_df['is_claim'].value_counts().plot(kind='pie')\n",
        "\n",
        "y=train_df['is_claim']"
      ],
      "metadata": {
        "colab": {
          "base_uri": "https://localhost:8080/",
          "height": 248
        },
        "id": "E0ZKO08k7xWO",
        "outputId": "95f09d6c-7db0-4c02-e56f-7f660ce01135"
      },
      "execution_count": null,
      "outputs": [
        {
          "output_type": "display_data",
          "data": {
            "text/plain": [
              "<Figure size 432x288 with 1 Axes>"
            ],
            "image/png": "[encoded data removed]"
          },
          "metadata": {}
        }
      ]
    },
    {
      "cell_type": "code",
      "source": [
        "print(train_df.head(3))"
      ],
      "metadata": {
        "colab": {
          "base_uri": "https://localhost:8080/"
        },
        "id": "Lsq5AHCe4tmR",
        "outputId": "26c8da05-ad81-4692-82ed-aac3df0be865"
      },
      "execution_count": null,
      "outputs": [
        {
          "output_type": "stream",
          "name": "stdout",
          "text": [
            "   policy_tenure  age_of_car  age_of_policyholder  area_cluster  \\\n",
            "0       0.515874        0.05             0.644231           0.0   \n",
            "1       0.672619        0.02             0.375000          11.0   \n",
            "2       0.841110        0.02             0.384615          15.0   \n",
            "\n",
            "   population_density  fuel_type  is_adjustable_steering  is_parking_sensors  \\\n",
            "0           -0.783513        0.0                     0.0                 1.0   \n",
            "1            0.462975        0.0                     0.0                 1.0   \n",
            "2           -0.835268        0.0                     0.0                 1.0   \n",
            "\n",
            "   displacement  cylinder  ...    height  is_front_fog_lights  \\\n",
            "0     -1.375713         3  ... -0.983846                  0.0   \n",
            "1     -1.375713         3  ... -0.983846                  0.0   \n",
            "2     -1.375713         3  ... -0.983846                  0.0   \n",
            "\n",
            "   is_brake_assist  is_power_door_locks  is_central_locking  \\\n",
            "0              0.0                  0.0                 0.0   \n",
            "1              0.0                  0.0                 0.0   \n",
            "2              0.0                  0.0                 0.0   \n",
            "\n",
            "   is_driver_seat_height_adjustable  is_day_night_rear_view_mirror  is_ecw  \\\n",
            "0                               0.0                            0.0     0.0   \n",
            "1                               0.0                            0.0     0.0   \n",
            "2                               0.0                            0.0     0.0   \n",
            "\n",
            "   is_speed_alert  is_claim  \n",
            "0             1.0         0  \n",
            "1             1.0         0  \n",
            "2             1.0         0  \n",
            "\n",
            "[3 rows x 22 columns]\n"
          ]
        }
      ]
    },
    {
      "cell_type": "code",
      "source": [
        "from sklearn.model_selection import train_test_split\n",
        "from imblearn.over_sampling import SMOTE \n",
        "\n",
        "sm = SMOTE(random_state=42)\n",
        "train_df, y = sm.fit_resample(train_df, y)\n",
        "print(train_df['is_claim'].value_counts())\n",
        "\n",
        "train_df=train_df.drop(['is_claim'],axis=1)\n",
        "train_x,valid_x,train_y,valid_y=train_test_split(train_df,y,test_size=0.25)\n",
        "print(\"train_data ->\",train_x.shape)\n",
        "print(\"valid_data ->\",valid_x.shape)\n",
        "print(\"train_label ->\",train_y.shape)\n",
        "print(\"valid_label ->\",valid_y.shape)"
      ],
      "metadata": {
        "colab": {
          "base_uri": "https://localhost:8080/"
        },
        "id": "4DH14MOq8UKx",
        "outputId": "44f5f160-5895-4c8a-a7ec-208d8ca64f00"
      },
      "execution_count": null,
      "outputs": [
        {
          "output_type": "stream",
          "name": "stdout",
          "text": [
            "0    54844\n",
            "1    54844\n",
            "Name: is_claim, dtype: int64\n",
            "train_data -> (82266, 21)\n",
            "valid_data -> (27422, 21)\n",
            "train_label -> (82266,)\n",
            "valid_label -> (27422,)\n"
          ]
        }
      ]
    },
    {
      "cell_type": "code",
      "source": [
        "from sklearn.naive_bayes import MultinomialNB\n",
        "from sklearn.ensemble import RandomForestClassifier\n",
        "from sklearn.metrics import f1_score,confusion_matrix\n",
        "from sklearn.linear_model import LogisticRegression\n",
        "from sklearn.svm import SVC\n",
        "from sklearn.ensemble import RandomForestClassifier\n",
        "#from sklearn.ensemble import BaggingClassifier\n",
        "from sklearn import model_selection\n",
        "from sklearn.metrics import f1_score\n",
        "from sklearn.ensemble import VotingClassifier\n",
        "from sklearn.tree import DecisionTreeClassifier\n",
        "from sklearn.feature_selection import RFE\n",
        "from sklearn.model_selection import GridSearchCV\n",
        "\n",
        "\n",
        "mnb=MultinomialNB()  #0.5547740694048173\n",
        "lr=LogisticRegression()  #0.4981388574202945\n",
        "rf=RandomForestClassifier(n_estimators=165,max_depth=132) #0.9355914421671849\n",
        "svm=SVC()\n",
        "cl=DecisionTreeClassifier()  #0.9139629200463499\n",
        "#evc=VotingClassifier(estimators=[('mnb',mnb),('lr',lr),('rf',rf),('svm',svm)],voting='hard')\n",
        "#clf = RFE(rf, n_features_to_select=25, step=1)\n",
        "#rf = GridSearchCV(rf, parameters,cv=5)\n",
        "rf.fit(train_x, train_y)\n",
        "results=rf.predict(valid_x)\n",
        "print(f1_score(valid_y,results)) #0.5547716055516909\n"
      ],
      "metadata": {
        "colab": {
          "base_uri": "https://localhost:8080/"
        },
        "id": "V9i6yT-s_oL6",
        "outputId": "a793fd7c-8218-4943-c128-38d3666882f0"
      },
      "execution_count": null,
      "outputs": [
        {
          "output_type": "stream",
          "name": "stdout",
          "text": [
            "0.9126541767053832\n"
          ]
        }
      ]
    },
    {
      "cell_type": "code",
      "source": [
        "def get_classification_metric(testy, probs):\n",
        "    from sklearn.metrics import precision_recall_curve\n",
        "    precision, recall, thresholds = precision_recall_curve(testy, probs)\n",
        "    # convert to f score\n",
        "    fscore = (2 * precision * recall) / (precision + recall)\n",
        "    # locate the index of the largest f score\n",
        "    ix = np.argmax(fscore)\n",
        "    return fscore[ix]\n",
        "\n",
        "#print( 'naive bayes Score:', get_classification_metric(valid_y,nb_predictions))\n",
        "#print( 'decision tree Score:', get_classification_metric(valid_y,dt_predictions))\n",
        "#print( 'linear regression Score:', get_classification_metric(valid_y,lr_predictions))\n",
        "#print( 'svc Score:', get_classification_metric(valid_y,svc_predictions))\n",
        "print( 'knn Score:', get_classification_metric(valid_y,results)) #0.11976124767344842"
      ],
      "metadata": {
        "colab": {
          "base_uri": "https://localhost:8080/"
        },
        "id": "nZLy8lJlaDel",
        "outputId": "04f3f67e-601f-4c06-df26-fe6399df0854"
      },
      "execution_count": null,
      "outputs": [
        {
          "output_type": "stream",
          "name": "stdout",
          "text": [
            "knn Score: 0.9126541767053832\n"
          ]
        }
      ]
    },
    {
      "cell_type": "code",
      "source": [
        "from sklearn.metrics import accuracy_score,classification_report\n",
        "print(classification_report(valid_y, results))"
      ],
      "metadata": {
        "colab": {
          "base_uri": "https://localhost:8080/"
        },
        "id": "Bc06N581Ed-n",
        "outputId": "7c6124a2-68fd-4610-e6f6-e100851d0873"
      },
      "execution_count": null,
      "outputs": [
        {
          "output_type": "stream",
          "name": "stdout",
          "text": [
            "              precision    recall  f1-score   support\n",
            "\n",
            "           0       0.92      0.90      0.91     13599\n",
            "           1       0.91      0.92      0.91     13823\n",
            "\n",
            "    accuracy                           0.91     27422\n",
            "   macro avg       0.91      0.91      0.91     27422\n",
            "weighted avg       0.91      0.91      0.91     27422\n",
            "\n"
          ]
        }
      ]
    },
    {
      "cell_type": "code",
      "source": [
        "test_ids=id\n",
        "prediction=rf.predict(test_df)\n",
        "print(np.unique(prediction))\n",
        "\n",
        "np.savetxt(\n",
        "    'submission.csv',\n",
        "    np.rec.fromarrays([test_ids, prediction]),\n",
        "    fmt=['%s', '%d'],\n",
        "    delimiter=',',\n",
        "    header='policy_id,is_claim',\n",
        "    comments='',\n",
        ")"
      ],
      "metadata": {
        "colab": {
          "base_uri": "https://localhost:8080/"
        },
        "id": "iCKeebvcDZJg",
        "outputId": "9a190467-f49d-48e3-d82a-442877bc40bc"
      },
      "execution_count": null,
      "outputs": [
        {
          "output_type": "stream",
          "name": "stdout",
          "text": [
            "[0 1]\n"
          ]
        }
      ]
    },
    {
      "cell_type": "code",
      "source": [
        "file=pd.read_csv(\"/content/submission.csv\")\n",
        "file.info()\n",
        "print(file['is_claim'].value_counts())#0    33611   1     5452\n"
      ],
      "metadata": {
        "colab": {
          "base_uri": "https://localhost:8080/"
        },
        "id": "YsKxCOn-6ROA",
        "outputId": "dbafd0bb-3946-46f2-f615-bb0618558e53"
      },
      "execution_count": null,
      "outputs": [
        {
          "output_type": "stream",
          "name": "stdout",
          "text": [
            "<class 'pandas.core.frame.DataFrame'>\n",
            "RangeIndex: 39063 entries, 0 to 39062\n",
            "Data columns (total 2 columns):\n",
            " #   Column     Non-Null Count  Dtype \n",
            "---  ------     --------------  ----- \n",
            " 0   policy_id  39063 non-null  object\n",
            " 1   is_claim   39063 non-null  int64 \n",
            "dtypes: int64(1), object(1)\n",
            "memory usage: 610.5+ KB\n",
            "0    33822\n",
            "1     5241\n",
            "Name: is_claim, dtype: int64\n"
          ]
        }
      ]
    }
  ]
}
